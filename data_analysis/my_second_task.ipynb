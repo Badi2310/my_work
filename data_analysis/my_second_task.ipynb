{
 "cells": [
  {
   "cell_type": "markdown",
   "metadata": {
    "id": "gjqXM1eu2FNa"
   },
   "source": [
    "# <a href=\"https://miptstats.github.io/courses/ad_fivt.html\">Введение в анализ данных</a>\n",
    "## Домашнее задание 2. Простой анализ данных."
   ]
  },
  {
   "cell_type": "markdown",
   "metadata": {
    "id": "cOTg41FJ2FNc"
   },
   "source": [
    "**Правила, <font color=\"red\">прочитайте внимательно</font>:**\n",
    "\n",
    "* Выполненную работу нужно отправить телеграм-боту `@miptstats_ds23_bot`. Для начала работы с ботом каждый раз отправляйте `/start`. Дождитесь подтверждения от бота, что он принял файл. Если подтверждения нет, то что-то не так. **Работы, присланные иным способом, не принимаются.**\n",
    "* Дедлайн см. в боте. После дедлайна работы не принимаются кроме случаев наличия уважительной причины.\n",
    "* Прислать нужно **ноутбук в формате `ipynb`** и html-версии графиков (подробности в условии).\n",
    "* Телеграм не разрешает боту получать файлы более **20 Мб**. Если ваше решение весит больше, *заранее* разделите ноутбук на несколько.\n",
    "* Выполнять задание необходимо полностью самостоятельно. **При обнаружении списывания все участники списывания будут сдавать устный зачет.**\n",
    "* Решения, размещенные на каких-либо интернет-ресурсах, не принимаются. Кроме того, публикация решения в открытом доступе может быть приравнена к предоставлении возможности списать.\n",
    "* Для выполнения задания **используйте этот ноутбук в качестве основы, ничего не удаляя из него**. Можно добавлять необходимое количество ячеек.\n",
    "* Комментарии к решению пишите в markdown-ячейках.\n",
    "* Выполнение задания (ход решения, выводы и пр.) должно быть осуществлено на русском языке.\n",
    "* Если код будет не понятен проверяющему, оценка может быть снижена.\n",
    "* Никакой код из данного задания при проверке запускаться не будет. *Если код студента не выполнен, недописан и т.д., то он не оценивается.*\n",
    "* **Код из рассказанных на занятиях ноутбуков** можно использовать без ограничений.\n",
    "\n",
    "**Перед выполнением задания посмотрите презентацию по выполнению и оформлению домашних заданий с занятия 1.**\n",
    "\n",
    "---\n",
    "\n",
    "**Баллы за задание:**\n",
    "\n",
    "<b><font color=\"orange\">Сложная часть</font></b> (необходимо на \"отл\"):\n",
    "* Задача 2 &mdash; 80 баллов\n",
    "\n",
    "---"
   ]
  },
  {
   "cell_type": "code",
   "execution_count": 20,
   "metadata": {
    "ExecuteTime": {
     "end_time": "2024-02-11T11:24:39.308097Z",
     "start_time": "2024-02-11T11:24:39.297661Z"
    },
    "id": "BxtSluNm2FNd"
   },
   "outputs": [],
   "source": [
    "# Bot check\n",
    "\n",
    "# HW_ID: fpmi_ad2\n",
    "# Бот проверит этот ID и предупредит, если случайно сдать что-то не то\n",
    "\n",
    "# Status: final\n",
    "# Перед отправкой в финальном решении удали \"not\" в строчке выше\n",
    "# Так бот проверит, что ты отправляешь финальную версию, а не промежуточную"
   ]
  },
  {
   "cell_type": "code",
   "execution_count": 21,
   "metadata": {
    "id": "ht9Xm0EucoAr"
   },
   "outputs": [],
   "source": [
    "import numpy as np\n",
    "import pandas as pd\n",
    "import matplotlib.pyplot as plt\n",
    "import seaborn as sns\n",
    "\n",
    "sns.set(style=\"whitegrid\", font_scale=1.3, palette=\"Set2\")"
   ]
  },
  {
   "cell_type": "markdown",
   "metadata": {
    "id": "WKKk8mhx2FNe"
   },
   "source": [
    "\n",
    "---\n",
    "### <font color=\"orange\"><i>Сложная часть</i></font>"
   ]
  },
  {
   "cell_type": "markdown",
   "metadata": {
    "id": "OPyKIgvC2FNe"
   },
   "source": [
    "### Задача 2"
   ]
  },
  {
   "cell_type": "markdown",
   "metadata": {
    "id": "WGocTZzH2FNe"
   },
   "source": [
    "<a target=\"_blank\" href=\"https://www.yelp.com/\">Yelp</a> — веб-сайт для поиска на местном рынке услуг, например ресторанов или парикмахерских, с возможностью добавлять и просматривать рейтинги и обзоры этих услуг. Для популярных бизнесов имеются сотни обзоров. Для обозревателей на сайте предусмотрены элементы социальной сети.\n",
    "\n",
    "![Yelp_Logo_No_Outline_Color.jpg](attachment:Yelp_Logo_No_Outline_Color.jpg)\n",
    "\n",
    "_____________\n",
    "\n",
    "Вам предоставляется следующая информация о компаниях на Yelp:\n",
    "\n",
    "Файл `yelp_business.csv`:\n",
    "* `business_id` — уникальный идентификатор компании;\n",
    "* `name` — имя компании;\n",
    "* `address`, `city`, `state` — месторасположении компании;\n",
    "* `latitude`, `longitude` — географические координаты;\n",
    "* `categories` — категории услуг компании.\n",
    "\n",
    "Файл `yelp_review.csv`, содержащий оценки пользователей:\n",
    "* `business_id` — идентификатор компании, соответствующий файлу `yelp_business.csv`;\n",
    "* `stars` — поставленная пользователем оценка от 1 до 5.\n",
    "\n",
    "В целях сокращения объема файла, текстовые отзывы пользователей не были включены.\n",
    "\n",
    "Оригинальную версию датасета в формате `json` можно посмотреть по <a target=\"_blank\" href=\"https://www.kaggle.com/yelp-dataset/yelp-dataset/data\">ссылке</a>, но использовать нужно выданные данные.\n",
    "\n",
    "_____________\n",
    "\n",
    "**Что нужно сделать:**\n",
    "\n",
    "* Найти город с наибольшим количеством компаний;\n",
    "* Для этого города определить районы с наиболее качественными услугами. <a target=\"_blank\" href=\"https://yandex.ru/company/researches/2017/msk_mobile_map\">Пример</a> с несколько другой задачей.\n",
    "* А также найти рестораны с наилучшими отзывами.\n",
    "\n",
    "\n",
    "*Далее в условии встречаются различные подсказки, как можно выполнить определенные части задачи. Вы можете их игнорировать и делать иным способом для получения **того же самого промежуточного результата**. Однако, если ваше решение окажется **значительно** менее эффективным (по скорости, количеству и красоте кода) по сравнению с предполагаемым, баллы могут быть снижены.*\n",
    "\n",
    "------"
   ]
  },
  {
   "cell_type": "markdown",
   "metadata": {
    "id": "IU0PlU1r2FNe"
   },
   "source": [
    "#### 1. Город с наибольшим количеством компаний\n",
    "\n",
    "Загрузите данные из файла `yelp_business.csv` с помощью функции `pd.read_csv`. Посмотрите на первые несколько строк с помощью метода `head`."
   ]
  },
  {
   "cell_type": "code",
   "execution_count": 22,
   "metadata": {
    "colab": {
     "base_uri": "https://localhost:8080/",
     "height": 434
    },
    "id": "H212NDiT2FNf",
    "outputId": "d8e864fb-6e02-4d76-c4e7-68fd1743bfaa"
   },
   "outputs": [
    {
     "data": {
      "text/html": [
       "<div>\n",
       "<style scoped>\n",
       "    .dataframe tbody tr th:only-of-type {\n",
       "        vertical-align: middle;\n",
       "    }\n",
       "\n",
       "    .dataframe tbody tr th {\n",
       "        vertical-align: top;\n",
       "    }\n",
       "\n",
       "    .dataframe thead th {\n",
       "        text-align: right;\n",
       "    }\n",
       "</style>\n",
       "<table border=\"1\" class=\"dataframe\">\n",
       "  <thead>\n",
       "    <tr style=\"text-align: right;\">\n",
       "      <th></th>\n",
       "      <th>business_id</th>\n",
       "      <th>name</th>\n",
       "      <th>neighborhood</th>\n",
       "      <th>address</th>\n",
       "      <th>city</th>\n",
       "      <th>state</th>\n",
       "      <th>postal_code</th>\n",
       "      <th>latitude</th>\n",
       "      <th>longitude</th>\n",
       "      <th>is_open</th>\n",
       "      <th>categories</th>\n",
       "    </tr>\n",
       "  </thead>\n",
       "  <tbody>\n",
       "    <tr>\n",
       "      <th>0</th>\n",
       "      <td>FYWN1wneV18bWNgQjJ2GNg</td>\n",
       "      <td>\"Dental by Design\"</td>\n",
       "      <td>NaN</td>\n",
       "      <td>\"4855 E Warner Rd, Ste B9\"</td>\n",
       "      <td>Ahwatukee</td>\n",
       "      <td>AZ</td>\n",
       "      <td>85044</td>\n",
       "      <td>33.330690</td>\n",
       "      <td>-111.978599</td>\n",
       "      <td>1</td>\n",
       "      <td>Dentists;General Dentistry;Health &amp; Medical;Or...</td>\n",
       "    </tr>\n",
       "    <tr>\n",
       "      <th>1</th>\n",
       "      <td>He-G7vWjzVUysIKrfNbPUQ</td>\n",
       "      <td>\"Stephen Szabo Salon\"</td>\n",
       "      <td>NaN</td>\n",
       "      <td>\"3101 Washington Rd\"</td>\n",
       "      <td>McMurray</td>\n",
       "      <td>PA</td>\n",
       "      <td>15317</td>\n",
       "      <td>40.291685</td>\n",
       "      <td>-80.104900</td>\n",
       "      <td>1</td>\n",
       "      <td>Hair Stylists;Hair Salons;Men's Hair Salons;Bl...</td>\n",
       "    </tr>\n",
       "    <tr>\n",
       "      <th>2</th>\n",
       "      <td>KQPW8lFf1y5BT2MxiSZ3QA</td>\n",
       "      <td>\"Western Motor Vehicle\"</td>\n",
       "      <td>NaN</td>\n",
       "      <td>\"6025 N 27th Ave, Ste 1\"</td>\n",
       "      <td>Phoenix</td>\n",
       "      <td>AZ</td>\n",
       "      <td>85017</td>\n",
       "      <td>33.524903</td>\n",
       "      <td>-112.115310</td>\n",
       "      <td>1</td>\n",
       "      <td>Departments of Motor Vehicles;Public Services ...</td>\n",
       "    </tr>\n",
       "    <tr>\n",
       "      <th>3</th>\n",
       "      <td>8DShNS-LuFqpEWIp0HxijA</td>\n",
       "      <td>\"Sports Authority\"</td>\n",
       "      <td>NaN</td>\n",
       "      <td>\"5000 Arizona Mills Cr, Ste 435\"</td>\n",
       "      <td>Tempe</td>\n",
       "      <td>AZ</td>\n",
       "      <td>85282</td>\n",
       "      <td>33.383147</td>\n",
       "      <td>-111.964725</td>\n",
       "      <td>0</td>\n",
       "      <td>Sporting Goods;Shopping</td>\n",
       "    </tr>\n",
       "    <tr>\n",
       "      <th>4</th>\n",
       "      <td>PfOCPjBrlQAnz__NXj9h_w</td>\n",
       "      <td>\"Brick House Tavern + Tap\"</td>\n",
       "      <td>NaN</td>\n",
       "      <td>\"581 Howe Ave\"</td>\n",
       "      <td>Cuyahoga Falls</td>\n",
       "      <td>OH</td>\n",
       "      <td>44221</td>\n",
       "      <td>41.119535</td>\n",
       "      <td>-81.475690</td>\n",
       "      <td>1</td>\n",
       "      <td>American (New);Nightlife;Bars;Sandwiches;Ameri...</td>\n",
       "    </tr>\n",
       "  </tbody>\n",
       "</table>\n",
       "</div>"
      ],
      "text/plain": [
       "              business_id                        name neighborhood  \\\n",
       "0  FYWN1wneV18bWNgQjJ2GNg          \"Dental by Design\"          NaN   \n",
       "1  He-G7vWjzVUysIKrfNbPUQ       \"Stephen Szabo Salon\"          NaN   \n",
       "2  KQPW8lFf1y5BT2MxiSZ3QA     \"Western Motor Vehicle\"          NaN   \n",
       "3  8DShNS-LuFqpEWIp0HxijA          \"Sports Authority\"          NaN   \n",
       "4  PfOCPjBrlQAnz__NXj9h_w  \"Brick House Tavern + Tap\"          NaN   \n",
       "\n",
       "                            address            city state postal_code  \\\n",
       "0        \"4855 E Warner Rd, Ste B9\"       Ahwatukee    AZ       85044   \n",
       "1              \"3101 Washington Rd\"        McMurray    PA       15317   \n",
       "2          \"6025 N 27th Ave, Ste 1\"         Phoenix    AZ       85017   \n",
       "3  \"5000 Arizona Mills Cr, Ste 435\"           Tempe    AZ       85282   \n",
       "4                    \"581 Howe Ave\"  Cuyahoga Falls    OH       44221   \n",
       "\n",
       "    latitude   longitude  is_open  \\\n",
       "0  33.330690 -111.978599        1   \n",
       "1  40.291685  -80.104900        1   \n",
       "2  33.524903 -112.115310        1   \n",
       "3  33.383147 -111.964725        0   \n",
       "4  41.119535  -81.475690        1   \n",
       "\n",
       "                                          categories  \n",
       "0  Dentists;General Dentistry;Health & Medical;Or...  \n",
       "1  Hair Stylists;Hair Salons;Men's Hair Salons;Bl...  \n",
       "2  Departments of Motor Vehicles;Public Services ...  \n",
       "3                            Sporting Goods;Shopping  \n",
       "4  American (New);Nightlife;Bars;Sandwiches;Ameri...  "
      ]
     },
     "execution_count": 22,
     "metadata": {},
     "output_type": "execute_result"
    }
   ],
   "source": [
    "yelp_business = pd.read_csv(\"yelp_business.csv\")\n",
    "yelp_business = yelp_business.drop(\"Unnamed: 0\", axis=1)  # удаляем лишнюю колонку\n",
    "yelp_business.head()"
   ]
  },
  {
   "cell_type": "markdown",
   "metadata": {
    "id": "xMeNBoxb2FNf"
   },
   "source": [
    "Найдите пять городов, по которым присутствует информация о наибольшем количестве компаний. В таблице должен быть указан город (название) и количество компаний в этом городе.\n",
    "\n",
    "*Подсказка.* Для выполнения стоит воспользоваться методами `groupby`, `count`, `sort_values`, `head`."
   ]
  },
  {
   "cell_type": "code",
   "execution_count": 23,
   "metadata": {
    "colab": {
     "base_uri": "https://localhost:8080/"
    },
    "id": "XrxMctrR2FNf",
    "outputId": "d7d24d18-d686-467a-d96f-fcdb9aa81aad"
   },
   "outputs": [
    {
     "data": {
      "text/plain": [
       "city\n",
       "Las Vegas     26775\n",
       "Phoenix       17213\n",
       "Toronto       17206\n",
       "Charlotte      8553\n",
       "Scottsdale     8228\n",
       "dtype: int64"
      ]
     },
     "execution_count": 23,
     "metadata": {},
     "output_type": "execute_result"
    }
   ],
   "source": [
    "city_business = yelp_business.groupby(\n",
    "    [\"city\", \"business_id\"]\n",
    ").size()  # сгруппировали данные по колонкам \"city\" и \"business_id\"\n",
    "city_counts = city_business.groupby(\n",
    "    \"city\"\n",
    ").count()  # подсчитали количество компании в каждом городе\n",
    "sorted_city = city_counts.sort_values()  # отсортировали их по количеству компании\n",
    "max_sorted_city = sorted_city[::-1]  # вывели в порядке возростания\n",
    "max_sorted_city.head()"
   ]
  },
  {
   "cell_type": "markdown",
   "metadata": {
    "id": "vpFDR_6I2FNf"
   },
   "source": [
    "Пусть `N` &mdash; город с наибольшим количеством компаний. Оставьте в таблице только записи, соответствующие городу `N`. Нанесите все эти компании на график, в котором по оси $x$ отметьте долготу, а по оси $y$ &mdash; широту."
   ]
  },
  {
   "cell_type": "code",
   "execution_count": 24,
   "metadata": {
    "colab": {
     "base_uri": "https://localhost:8080/",
     "height": 481
    },
    "id": "aIT5vd5A2FNf",
    "outputId": "87c4ec4f-ce01-4c68-ebb4-9e3db29f434e"
   },
   "outputs": [
    {
     "data": {
      "text/plain": [
       "Text(0.5, 1.0, 'координаты компании города - Las Vegas')"
      ]
     },
     "execution_count": 24,
     "metadata": {},
     "output_type": "execute_result"
    },
    {
     "data": {
      "image/png": "[encoded data removed]",
      "text/plain": [
       "<Figure size 640x480 with 1 Axes>"
      ]
     },
     "metadata": {},
     "output_type": "display_data"
    }
   ],
   "source": [
    "las_vegas = yelp_business.query('city == \"Las Vegas\"')  # оставляем данные с Las Vegas\n",
    "\n",
    "lon = las_vegas[\"longitude\"].to_numpy()  # высчитываем долготу\n",
    "lat = las_vegas[\"latitude\"].to_numpy()  # высчитываем ширату\n",
    "\n",
    "plt.figure()\n",
    "plt.plot(lon, lat, \"bo\", markersize=5, markerfacecolor=\"#FF0000\")\n",
    "plt.title(\"координаты компании города - Las Vegas\")"
   ]
  },
  {
   "cell_type": "markdown",
   "metadata": {
    "id": "wax5kBPK2FNf"
   },
   "source": [
    "Сам город находится в сгустке точек. Есть какие-то компании, которые приписаны к этому городу, но находятся далеко от него. Избавьтесь от них, подобрав некоторые границы значений широты и долготы. Изобразите все компании на новом графике. На этом графике должны выделяться некоторые улицы."
   ]
  },
  {
   "cell_type": "code",
   "execution_count": 25,
   "metadata": {
    "colab": {
     "base_uri": "https://localhost:8080/",
     "height": 481
    },
    "id": "0vakt25H2FNf",
    "outputId": "fb4c0c3c-d062-4967-c7ce-3be1bed53b17"
   },
   "outputs": [
    {
     "data": {
      "text/plain": [
       "(-115.5, -114.9, 36.0, 36.3)"
      ]
     },
     "execution_count": 25,
     "metadata": {},
     "output_type": "execute_result"
    },
    {
     "data": {
      "image/png": "[encoded data removed]",
      "text/plain": [
       "<Figure size 640x480 with 1 Axes>"
      ]
     },
     "metadata": {},
     "output_type": "display_data"
    }
   ],
   "source": [
    "plt.figure()\n",
    "plt.plot(lon, lat, \"bo\", markersize=2, markerfacecolor=\"#FF0000\")\n",
    "plt.title(\"координаты компании города - Las Vegas\")\n",
    "plt.axis([-115.5, -114.9, 36, 36.3])"
   ]
  },
  {
   "cell_type": "markdown",
   "metadata": {
    "id": "8cjmTqkp2FNf"
   },
   "source": [
    "Разберитесь с тем, как подгрузить интерактивную карту города в качестве фона графика. Можно пойти двумя следующими способами.\n",
    "1. Изучить <a href=\"https://miptstats.github.io/courses/python/11_plotly.html\" target=\"_blank\">материалы</a> по библиотеке <a href=\"https://plotly.com/python/\" target=\"_blank\"><b>Plotly</b></a>. Возможно, потребуется также заглянуть в документацию.\n",
    "1. Поразбираться с библиотекой <a href=\"https://github.com/python-visualization/folium\" target=\"_blank\"><b>Folium</b></a>. Посмотрите множество <a href=\"https://nbviewer.org/github/python-visualization/folium/tree/main/examples/\" target=\"_blank\">примеров</a>, может также помочь <a href=\"https://proglib.io/p/python-web-map\" target=\"_blank\">статья на русском</a>.\n",
    "\n",
    "*Внимание!* Интерактивная карта может не сохраниться в ноутбуке, а если сохранится, то вес ноутбука может превзойти 20 Мб, и его не получится отправить боту. В любом случае **<u>необходимо сохранить карту в html и отправить ее отдельным файлом в бот.</u>** При этом каждый файл html должен не превышать 20 Мб, присылать файлы в архиве нельзя. Аналогично со всеми следующими интерактивными графиками в этом задании."
   ]
  },
  {
   "cell_type": "code",
   "execution_count": 1,
   "metadata": {
    "colab": {
     "base_uri": "https://localhost:8080/",
     "height": 644
    },
    "id": "v5EoTx1M2FNg",
    "outputId": "92bbf722-2f35-4fcc-d976-6250b08c3a96"
   },
   "outputs": [
    {
     "ename": "ModuleNotFoundError",
     "evalue": "No module named 'folium'",
     "output_type": "error",
     "traceback": [
      "\u001b[0;31m---------------------------------------------------------------------------\u001b[0m",
      "\u001b[0;31mModuleNotFoundError\u001b[0m                       Traceback (most recent call last)",
      "Cell \u001b[0;32mIn[1], line 1\u001b[0m\n\u001b[0;32m----> 1\u001b[0m \u001b[39mimport\u001b[39;00m \u001b[39mfolium\u001b[39;00m\n\u001b[1;32m      2\u001b[0m \u001b[39mfrom\u001b[39;00m \u001b[39mfolium\u001b[39;00m\u001b[39m.\u001b[39;00m\u001b[39mplugins\u001b[39;00m \u001b[39mimport\u001b[39;00m MarkerCluster\n\u001b[1;32m      5\u001b[0m map_ \u001b[39m=\u001b[39m folium\u001b[39m.\u001b[39mMap(location\u001b[39m=\u001b[39m[\u001b[39m36.174970\u001b[39m, \u001b[39m-\u001b[39m\u001b[39m115.137220\u001b[39m], zoom_start\u001b[39m=\u001b[39m\u001b[39m11\u001b[39m)\n",
      "\u001b[0;31mModuleNotFoundError\u001b[0m: No module named 'folium'"
     ]
    }
   ],
   "source": [
    "import folium\n",
    "from folium.plugins import MarkerCluster\n",
    "\n",
    "\n",
    "map_ = folium.Map(location=[36.174970, -115.137220], zoom_start=11)\n",
    "for lat, lon in zip(lat, lon):\n",
    "    folium.CircleMarker(\n",
    "        location=[lat, lon],\n",
    "        radius=1,\n",
    "        fill_opacity=0.9,\n",
    "        color=\"grey\",  # добавляем маркеры\n",
    "    ).add_to(map_)\n",
    "\n",
    "\n",
    "map_.save(\"map_.html\")\n",
    "display(map_)"
   ]
  },
  {
   "cell_type": "markdown",
   "metadata": {
    "id": "MoaeoruV2FNg"
   },
   "source": [
    "Если все получилось, вы молодцы! Далее в этой задаче тоже стройте интерактивные карты. Если нет желания разбираться с интерактивными графиками, можно построить статичные, но баллы будут снижены."
   ]
  },
  {
   "cell_type": "markdown",
   "metadata": {
    "id": "bIsW0JzL2FNg"
   },
   "source": [
    "#### 2. Оценки компаний\n",
    "\n",
    "Для выполнения задания нужно посчитать среднюю оценку каждой компании, а также количество выставленных оценок.\n",
    "\n",
    "Загрузите таблицу оценок `yelp_review.csv`."
   ]
  },
  {
   "cell_type": "code",
   "execution_count": null,
   "metadata": {
    "id": "vXqcteaA2FNg"
   },
   "outputs": [],
   "source": [
    "yelp_review = pd.read_csv(\"yelp_review.csv\")\n",
    "yelp_review = yelp_review.drop(\"Unnamed: 0\", axis=1)  # удаляем ненужную колонку"
   ]
  },
  {
   "cell_type": "markdown",
   "metadata": {
    "id": "E42o2di52FNg"
   },
   "source": [
    "В подгруженной таблице оценок оставьте только компании города `N`. Для этого установите значения `business_id` в качестве индекса у таблицы оценок и воспользуйтесь методом `loc`.\n",
    "\n",
    "*Подсказка.* Чтобы индекс снова сделать полем таблицы, можно воспользоваться методом `reset_index`."
   ]
  },
  {
   "cell_type": "code",
   "execution_count": null,
   "metadata": {
    "colab": {
     "base_uri": "https://localhost:8080/",
     "height": 424
    },
    "id": "r97gnHLY2FNg",
    "outputId": "6bf11fc2-deff-4914-b528-f622f282b08f"
   },
   "outputs": [],
   "source": [
    "temp_yelp_review = yelp_review.set_index(\n",
    "    \"business_id\"\n",
    ")  # устанавливаем за индекс \"business_id\"\n",
    "\n",
    "las_vegas_review = temp_yelp_review.loc[\n",
    "    las_vegas.business_id\n",
    "]  # оставляем компаниии Las Vegas\n",
    "las_vegas_review = las_vegas_review.reset_index()"
   ]
  },
  {
   "cell_type": "markdown",
   "metadata": {
    "id": "nMMjpYIm2FNg"
   },
   "source": [
    "Теперь посчитайте среднюю оценку каждой компании, а также количество выставленных компании оценок.\n",
    "\n",
    "*Подсказка.* Помочь в этом могут функции `groupby` и `aggregate([np.mean, np.size])`."
   ]
  },
  {
   "cell_type": "code",
   "execution_count": null,
   "metadata": {
    "colab": {
     "base_uri": "https://localhost:8080/",
     "height": 486
    },
    "id": "62OJ_ThB2FNg",
    "outputId": "66195d64-df74-443a-d784-2d141ae8fb6b"
   },
   "outputs": [],
   "source": [
    "business_mean = las_vegas_review.groupby(\"business_id\").aggregate(\n",
    "    [np.mean, np.size]\n",
    ")  # считаем среднее и количество отценок"
   ]
  },
  {
   "cell_type": "markdown",
   "metadata": {
    "id": "wX0I3EAg2FNg"
   },
   "source": [
    "Назовите колонки таблицы красивыми именами, изменив `<имя таблицы>.columns`, после чего напечатайте несколько строк полученной таблицы. Красивые имена &mdash; то, что будет понятно простому человеку при чтении ваших результатов. Как именно их назвать &mdash; задача аналитика, то есть в данном случае ваша :)"
   ]
  },
  {
   "cell_type": "code",
   "execution_count": null,
   "metadata": {
    "colab": {
     "base_uri": "https://localhost:8080/",
     "height": 455
    },
    "id": "vRUD4D5Y2FNg",
    "outputId": "6501684e-d43e-4b6d-fd6a-8f8fe4b49208"
   },
   "outputs": [],
   "source": [
    "business_mean.columns = [\"stars_mean\", \"stars_count\"]"
   ]
  },
  {
   "cell_type": "markdown",
   "metadata": {
    "id": "JcS8UH_e2FNg"
   },
   "source": [
    "Соедините две полученные ранее таблицы по компаниям города `N` в одну.\n",
    "Для этого сначала установите поле `business_id` в качестве индекса в обеих таблицах с помощью `set_index`. В одной из них это уже должно было быть сделано.\n",
    "В полученной таблице должны получится поля `latitude`, `longitude`, `categories`, `name`, а также две колонки со средней оценкой компаний и количеством оценок, которые вы посчитали выше.\n",
    "\n",
    "*Подсказка.* Соединение таблиц можно выполнить с помощью `join`.\n",
    "Индексы у этих таблиц одинаковые, так что тип джойна не имеет значения."
   ]
  },
  {
   "cell_type": "code",
   "execution_count": null,
   "metadata": {
    "id": "983XBEv-2FNg"
   },
   "outputs": [],
   "source": [
    "cropped_las_vegas = las_vegas.drop(las_vegas.columns[[2, 3, 4, 5, 6, 9]], axis=1)\n",
    "\n",
    "\n",
    "joined_df = cropped_las_vegas.set_index(\"business_id\").join(business_mean)\n",
    "joined_df_copy = joined_df.copy()"
   ]
  },
  {
   "cell_type": "markdown",
   "metadata": {
    "id": "pUIFAtnu2FNh"
   },
   "source": [
    "Изобразите все компании на графике, раскрасив точку в цвет, оттенок которого соответствует средней оценке компании. Прозрачность точки выставляйте не более $0.3$. Если у одной компании несколько филиалов с разными адресами, наносите на график все адреса."
   ]
  },
  {
   "cell_type": "code",
   "execution_count": null,
   "metadata": {
    "colab": {
     "base_uri": "https://localhost:8080/",
     "height": 644
    },
    "id": "pWLYj9F12FNh",
    "outputId": "3665d92f-de47-48d8-e88a-e952fd3fb7ec"
   },
   "outputs": [],
   "source": [
    "stars = joined_df[\"stars_mean\"]\n",
    "lon = joined_df[\"longitude\"].to_numpy()\n",
    "lat = joined_df[\"latitude\"].to_numpy()\n",
    "\n",
    "\n",
    "def color_by_rating(rating):\n",
    "    colors = plt.cm.cool(rating / 5)\n",
    "    return colors\n",
    "\n",
    "\n",
    "colored_las_vegas = folium.Map(location=[36.174970, -115.137220], zoom_start=11)\n",
    "for lat, lon, st in zip(lat, lon, stars):\n",
    "    folium.CircleMarker(\n",
    "        location=[lat, lon],\n",
    "        radius=2,\n",
    "        fill_color=color_by_rating(st),\n",
    "        color=color_by_rating(st),\n",
    "    ).add_to(colored_las_vegas)\n",
    "display(colored_las_vegas)"
   ]
  },
  {
   "cell_type": "markdown",
   "metadata": {
    "id": "AaR9B5rp2FNh"
   },
   "source": [
    "Чтобы получить районы города, то есть разделить город на \"клетки\", округлите значения широты и долготы, подобрав оптимальный размер района.\n",
    "\n",
    "*Подсказка.* Например, можно сделать так\n",
    "`np.round(долгота*4, decimals=1)*0.25`."
   ]
  },
  {
   "cell_type": "code",
   "execution_count": null,
   "metadata": {
    "colab": {
     "base_uri": "https://localhost:8080/",
     "height": 577
    },
    "id": "8m2dsM9N2FNh",
    "outputId": "47023db2-1a1e-449b-f096-d006a49511ec"
   },
   "outputs": [],
   "source": [
    "joined_df[\"longitude\"] = np.round(joined_df[\"longitude\"] * 4, decimals=1) * 0.25\n",
    "joined_df[\"latitude\"] = np.round(joined_df[\"latitude\"] * 4, decimals=1) * 0.25\n",
    "joined_df"
   ]
  },
  {
   "cell_type": "markdown",
   "metadata": {
    "id": "2ZCdVwN52FNh"
   },
   "source": [
    "Для получения средней оценки компаний по району постройте сводную таблицу при помощи `pd.pivot_table`, взяв в качестве индексов и колонок округленные широту и долготу, а в качестве значений &mdash; оценки. Аггрегирующей функцией является среднее.\n",
    "\n",
    "Изобразите полученную таблицу при помощи `sns.heatmap`.\n",
    "\n",
    "*Замечание.* В качестве среднего можно было бы посчитать как общее среднее по всем оценкам всех компаний, так и среднее по компаниям их средних оценок. В чем разница этих подходов? Какой из них необходимо использовать в данном случае?"
   ]
  },
  {
   "cell_type": "code",
   "execution_count": null,
   "metadata": {
    "colab": {
     "base_uri": "https://localhost:8080/",
     "height": 942
    },
    "id": "VW-NLK6U2FNh",
    "outputId": "710f8a03-6007-4ce1-c7b4-0bbd0ef4cbb0"
   },
   "outputs": [],
   "source": [
    "joined_df = joined_df[\n",
    "    (joined_df[\"longitude\"] < -114.9) & (joined_df[\"longitude\"] > -115.5)\n",
    "]\n",
    "joined_df = joined_df[(joined_df[\"latitude\"] < 36.3) & (joined_df[\"latitude\"] > 36)]\n",
    "\n",
    "piv_tab = pd.pivot_table(\n",
    "    joined_df,\n",
    "    index=[\"latitude\"],\n",
    "    columns=[\"longitude\"],\n",
    "    values=\"stars_mean\",\n",
    "    aggfunc=\"mean\",\n",
    ")\n",
    "\n",
    "plt.figure(figsize=(11, 10))\n",
    "sns.heatmap(piv_tab)\n",
    "plt.show()"
   ]
  },
  {
   "cell_type": "markdown",
   "metadata": {
    "id": "25AU57dZ2FNh"
   },
   "source": [
    "Полученный график имеет ряд недостатков. Во-первых, не очень правильно судить о районе, если в нем мало компаний. Во-вторых,  на графике цветовая гамма автоматически подстроилась под минимальное и максимальное значения оценки.\n",
    "\n",
    "Почему эти недостатки могут быть существенными?\n",
    "\n",
    "**Ответ:**\n",
    "\n",
    "Из за них становится труднее сделать какие либо выводы из граффика.\n",
    "\n",
    "К примеру - из графика можно подумать что компании на перефирии города имеют лучшие отценки по сравнению с теми что находятся в центре"
   ]
  },
  {
   "cell_type": "markdown",
   "metadata": {
    "id": "wXNAMLLU2FNh"
   },
   "source": [
    "Оставьте районы, в которых имеется информация о не менее $30$ компаний. Постройте новый график районов, использовав параметры `vmin` и `vmax` у функции `sns.heatmap`."
   ]
  },
  {
   "cell_type": "code",
   "execution_count": null,
   "metadata": {
    "colab": {
     "base_uri": "https://localhost:8080/",
     "height": 935
    },
    "id": "-dz9iEGt2FNh",
    "outputId": "e48b55f9-e6d3-4c6e-eb38-6874bdef4054"
   },
   "outputs": [],
   "source": [
    "joined_df[\"companies_count\"] = joined_df.groupby([\"latitude\", \"longitude\"])[\n",
    "    \"name\"\n",
    "].transform(\"count\")\n",
    "\n",
    "new_joined_df = joined_df[joined_df[\"companies_count\"] >= 30]\n",
    "piv_tab = pd.pivot_table(\n",
    "    new_joined_df,\n",
    "    index=[\"latitude\"],\n",
    "    columns=[\"longitude\"],\n",
    "    values=\"stars_mean\",\n",
    "    aggfunc=\"mean\",\n",
    ")\n",
    "\n",
    "plt.figure(figsize=(11, 10))\n",
    "sns.heatmap(piv_tab, vmin=3.0, vmax=4.3)\n",
    "plt.show()"
   ]
  },
  {
   "cell_type": "markdown",
   "metadata": {
    "id": "UFJBRmcQ2FNh"
   },
   "source": [
    "Сравните полученный график с предыдущим и сделайте вывод.\n",
    "\n",
    "**Вывод:**\n",
    "компании в центре имеют нормальные средние отценки, ну а некоторые компании на краю города имеют не самые лучшие результаты"
   ]
  },
  {
   "cell_type": "markdown",
   "metadata": {
    "id": "BTiGnuLR2FNh"
   },
   "source": [
    "#### 3. Рестораны\n",
    "\n",
    "Будем считать компанию рестораном, если в поле `categories` *содержится* слово `restaurant`. Обратите внимание, что в анализе данных часто нет четкого формата данных. Например, данное слово может быть написано как с большой буквы, так и с маленькой; может как разделяться `;`, так и не разделяться. При возникновении недопонимания стоит посмотреть данные.\n",
    "\n",
    "Составьте таблицу, в которой будет информация о всех ресторанах города `N`, для которых имеется не менее $5$ отзывов. Далее постройте heatmap-график районов, в котором каждому району сопоставьте среднюю оценку по ресторанам этого района. Рассматривайте только те районы, в которых есть не менее $10$ ресторанов, для каждого из которых есть не менее $5$ отзывов."
   ]
  },
  {
   "cell_type": "code",
   "execution_count": null,
   "metadata": {
    "colab": {
     "base_uri": "https://localhost:8080/",
     "height": 490
    },
    "id": "IPlHIwDH2FNi",
    "outputId": "f0a6ed00-2064-4987-991a-2d8be1b9be4f"
   },
   "outputs": [],
   "source": [
    "..."
   ]
  },
  {
   "cell_type": "markdown",
   "metadata": {
    "id": "5X4g1lZE2FNi"
   },
   "source": [
    "Чем полезны ограничения снизу на количество отзывов для ресторана и количество ресторанов в районе?\n",
    "\n",
    "**Ответ:** <...>"
   ]
  },
  {
   "cell_type": "markdown",
   "metadata": {
    "id": "_vW8_wmy2FNi"
   },
   "source": [
    "Кот Василий из города `N` очень придирчив к выбору ресторана. Он доверяет только ресторанам с высоким рейтингом, который основывается на большом количестве отзывов. Напечатайте в виде таблицы информацию $10$ ресторанах с самым большим рейтингом в порядке убывания рейтинга. Для каждого из этих ресторанов должно быть не менее $50$ отзывов. По каждому ресторану необходимо вывести следующую информации: название ресторана, средняя оценка, количество отзывов, географические координаты, категории."
   ]
  },
  {
   "cell_type": "code",
   "execution_count": null,
   "metadata": {
    "id": "IH02_gBa2FNi"
   },
   "outputs": [],
   "source": [
    "..."
   ]
  },
  {
   "cell_type": "markdown",
   "metadata": {
    "id": "CpBJal6C2FNi"
   },
   "source": [
    "Нанесите на карту все рестораны со средней оценкой не менее $4.7$, которая посчитана по не менее $50$ отзывам. Отдельным цветом отметьте 10 ресторанов, которые вы получили ранее."
   ]
  },
  {
   "cell_type": "code",
   "execution_count": null,
   "metadata": {
    "id": "9spP_wlJ2FNi"
   },
   "outputs": [],
   "source": [
    "..."
   ]
  },
  {
   "cell_type": "markdown",
   "metadata": {
    "id": "p92iB_3l2FNi"
   },
   "source": [
    "Охарактеризуйте кота Василия, а также сделайте общий вывод по задаче.\n",
    "\n",
    "**Вывод:** <...>"
   ]
  }
 ],
 "metadata": {
  "colab": {
   "provenance": []
  },
  "hide_input": false,
  "kernelspec": {
   "display_name": "Python 3 (ipykernel)",
   "language": "python",
   "name": "python3"
  },
  "language_info": {
   "codemirror_mode": {
    "name": "ipython",
    "version": 3
   },
   "file_extension": ".py",
   "mimetype": "text/x-python",
   "name": "python",
   "nbconvert_exporter": "python",
   "pygments_lexer": "ipython3",
   "version": "3.9.6"
  }
 },
 "nbformat": 4,
 "nbformat_minor": 0
}
