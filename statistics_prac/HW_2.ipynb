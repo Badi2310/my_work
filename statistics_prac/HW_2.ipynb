{
  "cells": [
    {
      "cell_type": "markdown",
      "metadata": {
        "id": "EHQon6kICsxP"
      },
      "source": [
        "# Курс \"Практикум по математической статистике\"\n",
        "# 3 курс ФПМИ МФТИ, осень 2023\n",
        "## Домашнее задание 2. Методы нахождения оценок. Бутстреп. Байесовская статистика\n",
        "### Мягкий дедлайн --- 27 октября 23:59\n",
        "### Жёсткий дедлайн --- 2 ноября 16:59\n",
        "\n",
        "Выполняйте задания прямо в ноутбуке. Пожалуйста, не стирайте условия задач.\n",
        "\n",
        "- Информация о выполнении и курсе в целом есть в чате https://t.me/+IHdLycZDD5g5MDQy.\n",
        "- По вопросам об условиях задач, требованиям можно писать в чат или https://t.me/vitalii_kondratiuk .\n",
        "- По организационным вопросам https://t.me/d_pavlov_p\n",
        "\n",
        "В этом и последующих заданиях вам потребуется выполнять генерацию случайных величин из некоторого распределения. Для этого вам понадобится библиотека scipy.stats. Мы настоятельно рекомендуем для генерации выборок использовать именно эту библиотеку.\n",
        "\n",
        "Настоятельно рекомендуемая форма оформления домашних заданий — это Jupyter Notebook и его pdf-версия с:\n",
        "\n",
        "* условием задачи,\n",
        "* решением (если требуется некоторый теоретический вывод),\n",
        "* собственно кодом,\n",
        "* Перед ячейками с кодом в случае необходимости пишите, что Вы вычисляете, что ожидаете увидеть и как будете анализировать результат\n",
        "* После каждого числа или графика пишите анализ: каков результат? Оправдал ли он ожидания? Какие особености Вы увидели? Откуда они взялись?\n",
        "* построенными графиками (если это требуется) и **выводом**, который как правило должен заключаться в объяснении практических результатов с использованием теоретических фактов. ***Вывод требуется даже в том случае, если в условии об этом явно не сказано!***\n",
        "* некоторыми другими вещами, если об этом будет указано в задании.\n",
        "\n",
        "Оценка за каждую задачу складывается из правильного выполнения всех этих пунктов. Закрывая на них глаза, вы сознательно понижаете свою оценку.\n",
        "\n",
        "Каждая задача оценивается в 10 баллов, если не оговорено иного."
      ]
    },
    {
      "cell_type": "markdown",
      "metadata": {
        "id": "VyJNIu3-UOBA"
      },
      "source": [
        "Для красоты графиков можно (и приветствуется) вместо гистограммы использовать ядерную оценку плотности (kernel density estimator): https://docs.scipy.org/doc/scipy/reference/generated/scipy.stats.gaussian_kde.html"
      ]
    },
    {
      "cell_type": "markdown",
      "metadata": {
        "id": "OpvLoS6Svhp5"
      },
      "source": [
        "Загрузим необходимый для задачи 2 датасет. Если что-то пошло не так, то просто скачайте файл по ссылке вручную."
      ]
    },
    {
      "cell_type": "code",
      "execution_count": 43,
      "metadata": {
        "id": "_gdSaS5cUd7r"
      },
      "outputs": [
        {
          "name": "stdout",
          "output_type": "stream",
          "text": [
            "exec: Failed to execute process '/Users/aitore_04/Desktop/all_stuff/материалы мфти/третий_курс_мат/python_prac/myenv/bin/pip': The file specified the interpreter '/Users/aitore_04/Desktop/python_prac/myenv/bin/python3.12', which is not an executable command.\n",
            "fish: No matches for wildcard 'https://drive.google.com/uc?id=1cJywRii7wBZa0B2uAvvu56JFCLPnlOSs'. See `help wildcards-globbing`.\n",
            "gdown https://drive.google.com/uc?id=1cJywRii7wBZa0B2uAvvu56JFCLPnlOSs\n",
            "      ^~~~~~~~~~~~~~~~~~~~~~~~~~~~~~~~~~~~~~~~~~~~~~~~~~~~~~~~~~~~~~~^\n"
          ]
        }
      ],
      "source": [
        "!pip install -q gdown\n",
        "!gdown https://drive.google.com/uc?id=1cJywRii7wBZa0B2uAvvu56JFCLPnlOSs"
      ]
    },
    {
      "cell_type": "code",
      "execution_count": 44,
      "metadata": {
        "id": "-gBMMLPW-Zbx"
      },
      "outputs": [],
      "source": [
        "import pandas as pd\n",
        "import numpy as np\n",
        "from scipy import stats as sps\n",
        "\n",
        "from matplotlib import pyplot as plt\n",
        "import seaborn as sns\n",
        "\n",
        "sns.set(style=\"darkgrid\", font_scale=1.4)"
      ]
    },
    {
      "cell_type": "markdown",
      "metadata": {
        "id": "AWt2_JPJUiYF"
      },
      "source": [
        "**Условие задания**: Великая Ордалия уже почти готова к путешествию, однако враги империи проникли в замок и уничтожили все формулы с оценками из Домашнего задания 1. Можно попытаться восстановить их по памяти, но не лучше ли взамен старых оценок изобрести новые? Помимо этого за две тысячи лет (прошедших с момента первой ордалии до наших дней) точечные оценки значительно устарели и уже не способны отражать реальную суть вещей, поэтому Вам будет предложено попробовать на практике два других подхода: интервальные оценки и байесовские оценки.\n",
        "\n",
        "В этой практике Вам предложено реализовать несколько подходов к построению оценок и понять, когда какой подход применять."
      ]
    },
    {
      "cell_type": "markdown",
      "metadata": {
        "id": "pSakOeP8WTHs"
      },
      "source": [
        "**Дисклеймер**:\n",
        "В задачах будет разбиение на пункты, но оцениваться задача будет **целиком**. Можете считать, что выполнение всех пунктов вместе с отсутствием замечаний по полноте анализа/эффективности кода/информативности графиков/т.д. приносит полный балл."
      ]
    },
    {
      "cell_type": "markdown",
      "metadata": {
        "id": "ryqSfvTFt76E"
      },
      "source": [
        "### Задача 1"
      ]
    },
    {
      "cell_type": "markdown",
      "metadata": {
        "id": "R6RxS1RFudt0"
      },
      "source": [
        "Прочитайте ещё раз задачу 1 домашки 1. Вы сравнивали оценки исходя из визуальных свойств их графиков. Пришло время начать сравнивать оценки строго!"
      ]
    },
    {
      "cell_type": "markdown",
      "metadata": {
        "id": "4u7n0shquvgJ"
      },
      "source": [
        "Напомним, что в задаче речь шла про оценки параметра $\\theta$ распределения $U[0, \\theta]$: $2\\overline{X}$, $\\frac{n+1}{n} X_{(n)}$, $(n+1)X_{(1)}$, $\\overline{X} + X_{(n)}/ 2$ и $X_{(1)}+X_{(n)}$. Как и ранее, зафиксируем какое-то конкретное значение параметра, скажем, $\\theta = 1$.\n",
        "\n",
        "Постройте плотности для первых трёх оценок. Настойчиво просим предоставлять решение в виде теха, но если у вас лапки, то можете прикрепить фото с хорошо разборчивым почерком."
      ]
    },
    {
      "cell_type": "markdown",
      "metadata": {
        "id": "bzBByjQfvCdx"
      },
      "source": [
        "Решение и ответ:\n",
        "\n",
        "для $\\frac{n+1}{n} X_{(n)}$:\n",
        "\n",
        "Функция распределения - $F_{\\frac{n+1}{n} X_{(n)}}(x) = F_{X_1}(\\frac{n}{n+1}x)^n$\n",
        "\n",
        "Плотность - $p_{\\frac{n+1}{n} X_{(n)}}(x) = n(\\frac{nx}{(n+1)\\theta})^{n-1} \\frac{n}{(n+1)\\theta} I(\\frac{nx}{n+1} \\leq \\theta)$\n",
        "\n",
        "\n",
        "для $(n+1)X_{(1)}$:\n",
        "\n",
        "Функция распределения - $F_{(n+1)X_{(1)}}(x) = 1 - (1 - F_{X_1}(\\frac{t}{n+1}))^n$\n",
        "\n",
        "Плотность - $p_{(n+1)X_{(1)}}(x) = n(1 - \\frac{t}{(n+1)\\theta})^{n-1}$"
      ]
    },
    {
      "cell_type": "markdown",
      "metadata": {
        "id": "k7gXmQ6ZvE98"
      },
      "source": [
        "Для квадратичной функции потерь посчитайте аналитически (для первых трёх оценок) и численно (для каждой оценки) риск для выборки из $N$ элементов. Начните с $N=1000$ и уменьшите его, если вычисления будут неподъемными. Для численного вычисления интеграла можно использовать scipy.integrate.quad или метод Монте-Карло."
      ]
    },
    {
      "cell_type": "markdown",
      "metadata": {},
      "source": [
        "Из семинаров по математической статистики - ясно что риск для трех первых оценок вычисляется по следующем формулам:\n",
        "\n",
        "$2\\overline X :   R(\\hat \\theta, \\theta) = \\frac{\\theta^2}{3n}$\n",
        "\n",
        "$\\frac{n+1}{n}X_{n}:    R(\\hat \\theta, \\theta) = \\frac{\\theta^2}{n(n+1)}$\n",
        "\n",
        "$(n+1)X_{1}:   R(\\hat \\theta, \\theta) = \\frac{n}{n+1} \\theta^2 $\n",
        "\n"
      ]
    },
    {
      "cell_type": "code",
      "execution_count": 45,
      "metadata": {},
      "outputs": [],
      "source": [
        "theta = 1\n",
        "N = 1000"
      ]
    },
    {
      "cell_type": "code",
      "execution_count": 46,
      "metadata": {
        "id": "aPi-CyIRvTxw"
      },
      "outputs": [],
      "source": [
        "sample = sps.uniform.rvs(0, theta, size=(N,N))"
      ]
    },
    {
      "cell_type": "code",
      "execution_count": 47,
      "metadata": {},
      "outputs": [],
      "source": [
        "def first_estimate(sample):\n",
        "    return 2 * sample.mean(-1)\n",
        "\n",
        "def second_estimate(sample):\n",
        "    return sample.max(-1) * (N + 1) / N\n",
        "\n",
        "def third_estimate(sample):\n",
        "    return sample.min(-1) * (N + 1)\n",
        "\n",
        "def fourth_estimate(sample):\n",
        "    return sample.mean(-1) + sample.max(-1) / 2\n",
        "\n",
        "def fifth_estimate(sample):\n",
        "    return sample.min(-1) + sample.max(-1)"
      ]
    },
    {
      "cell_type": "code",
      "execution_count": 48,
      "metadata": {},
      "outputs": [
        {
          "name": "stdout",
          "output_type": "stream",
          "text": [
            "0.00034\n",
            "0.0\n",
            "1.00134\n",
            "9e-05\n",
            "0.0\n"
          ]
        }
      ],
      "source": [
        "risks = []\n",
        "risks.append(np.mean((first_estimate(sample) - theta)**2))\n",
        "risks.append(np.mean((second_estimate(sample) - theta)**2))\n",
        "risks.append(np.mean((third_estimate(sample) - theta)**2))\n",
        "risks.append(np.mean((fourth_estimate(sample) - theta)**2))\n",
        "risks.append(np.mean((fifth_estimate(sample) - theta)**2))\n",
        "\n",
        "\n",
        "for risk in risks:\n",
        "    print(np.round(risk, 5))\n",
        "\n"
      ]
    },
    {
      "cell_type": "markdown",
      "metadata": {
        "id": "7GhNz14VvURY"
      },
      "source": [
        "Постройте распределения оценок для одного $\\theta$ на одном графике"
      ]
    },
    {
      "cell_type": "code",
      "execution_count": 49,
      "metadata": {
        "id": "7SD1TDpgvyxk"
      },
      "outputs": [],
      "source": [
        "estimations = np.empty((5, N))\n",
        " #[1, 2, 3, 4, 5]\n",
        "\n",
        "estimations[0] = 2 * sample.mean(axis=1)\n",
        "\n",
        "estimations[1] = sample.mean(axis=1) + sample.max(axis=1) / 2\n",
        "\n",
        "estimations[2] = (N + 1) * sample.min(axis=1)\n",
        "\n",
        "estimations[3] = sample.min(axis=1) + sample.max(axis=1)\n",
        "\n",
        "estimations[4] = (N + 1) / N * sample.max(axis=1)"
      ]
    },
    {
      "cell_type": "code",
      "execution_count": 50,
      "metadata": {},
      "outputs": [
        {
          "data": {
            "image/png": "[encoded data removed]",
            "text/plain": [
              "<Figure size 1500x1000 with 6 Axes>"
            ]
          },
          "metadata": {},
          "output_type": "display_data"
        }
      ],
      "source": [
        "kernels = []\n",
        "fig, axe = plt.subplots(2, 3, figsize = (15, 10))\n",
        "\n",
        "for i, loc in enumerate(axe.flat):\n",
        "    if i == 5:\n",
        "        break\n",
        "    x = np.linspace(min(estimations[i]), max(estimations[i]), 1000)\n",
        "    kernels.append(sps.gaussian_kde(estimations[i]))\n",
        "    loc.plot(x, kernels[i](x))\n",
        "plt.show()\n",
        "\n"
      ]
    },
    {
      "cell_type": "markdown",
      "metadata": {
        "id": "AG8FWVBTvzA8"
      },
      "source": [
        "Вспомните свой вывод из задачи 1. Согласуется ли выбор \"лучшей\" оценки с понятием квадратичного риска? Почему?"
      ]
    },
    {
      "cell_type": "markdown",
      "metadata": {
        "id": "WbfUi2xKv6KK"
      },
      "source": [
        "Ответ: Да, согласуется. Посути \"Риск\" накапливает информацию об среднем отклонении оценки от истинного значения параметра, в то время как лучшая оценка как раз таки минимально отклоняется от значения параметра. Другими словами почти вся вероятность должна быть сконцентрирована в окретсности параметра"
      ]
    },
    {
      "cell_type": "markdown",
      "metadata": {
        "id": "08IkN9-cv7bH"
      },
      "source": [
        "Вспомните и напишите формулировку теоремы Рао-Крамера. Посчитайте, какую нижнюю оценку риска предлагает эта теорема. Сравните её численное значение с посчитанным Вами риском. Сделайте выводы."
      ]
    },
    {
      "cell_type": "markdown",
      "metadata": {
        "id": "vW0wpOmQwJ-5"
      },
      "source": [
        "Ответ:\n",
        "\n",
        "Неравенство Рао-крамера:\n",
        "\n",
        "Пусть $\\Theta$ - множество параметров, выполнены условия регулярности, $\\hat \\theta$ - несмещена относительно $\\tau(\\theta)$. Тогда $\\forall \\theta \\in \\Theta$ выполнено:\n",
        "\n",
        "$$ D_{\\theta} \\hat \\theta \\geq \\frac{\\tau'(\\theta)^2}{ni(\\theta)} $$\n",
        "\n",
        "где $i(\\theta)$ - информация Фишера одного наблюдения.\n",
        "\n",
        "\n",
        "Так как оценка смещена, то можно устверждать что $R(\\hat \\theta, \\theta) = D_{\\theta} \\hat \\theta$.\n",
        "\n",
        "\n",
        "После вычислении $i(\\theta) = \\frac{1}{\\theta^2}$, $\\frac{\\tau'(\\theta)^2}{ni(\\theta)} = \\frac{\\theta^2}{n} $.\n",
        "\n",
        "В нашем случае оценки несмещены, однако в Равномерном распределении не выполняюьтся условие регулярности из чего следует что неравенство Рао-Крамера не выполняется. Это можно заметить по рискам первых двух оценок ($\\frac{\\theta^2}{3n}, \\frac{\\theta^2}{n(n+1)} < \\frac{\\theta^2}{n}$). То есть в данном случае наши оценки лучше чем нижняя гранца из неравенства Рао-Крамера"
      ]
    },
    {
      "cell_type": "markdown",
      "metadata": {
        "id": "YkJ5fitGwLIu"
      },
      "source": [
        "Численно посчитайте риск для функции потерь $l(x, y) = |x - y|$ и для какой-то другой осмысленной предложенной Вами функцией потерь. Будет ли порядок качества на оценках таким же, как и для квадратичного подхода?"
      ]
    },
    {
      "cell_type": "code",
      "execution_count": 51,
      "metadata": {
        "id": "tLkj6OGRwY5j"
      },
      "outputs": [],
      "source": [
        "def l(x, y):\n",
        "    return np.abs(x-y)"
      ]
    },
    {
      "cell_type": "code",
      "execution_count": 52,
      "metadata": {},
      "outputs": [],
      "source": [
        "risks = []\n",
        "risks.append(np.mean(l(first_estimate(sample), theta)))\n",
        "risks.append(np.mean(l(second_estimate(sample), theta)))\n",
        "risks.append(np.mean(l(third_estimate(sample), theta)))\n",
        "risks.append(np.mean(l(fourth_estimate(sample), theta)))\n",
        "risks.append(np.mean(l(fifth_estimate(sample), theta)))"
      ]
    },
    {
      "cell_type": "code",
      "execution_count": 53,
      "metadata": {},
      "outputs": [
        {
          "name": "stdout",
          "output_type": "stream",
          "text": [
            "0.014939023867201187\n",
            "0.0007418137717797743\n",
            "0.7389729222944407\n",
            "0.007504644708956341\n",
            "0.0010055861521693528\n"
          ]
        }
      ],
      "source": [
        "for risk in risks:\n",
        "    print(risk)"
      ]
    },
    {
      "cell_type": "markdown",
      "metadata": {},
      "source": [
        "Риски явно увеличились, но порядок качества сильно не изменился"
      ]
    },
    {
      "cell_type": "markdown",
      "metadata": {
        "id": "Z3f4MFC4wZJ4"
      },
      "source": [
        "Вернёмся к вадратичной функции потерь. Пусть теперь сам параметр $\\theta$ приходит из распределения $\\mathsf Q$ с плотностью $q(x) = 2xI[0, 1]$. Посчитайте численно байесовский риск каждой оценки. Сравните оценки в байесовском подходе. Остался ли порядок прежним?"
      ]
    },
    {
      "cell_type": "markdown",
      "metadata": {},
      "source": [
        "Байесовский риск будет выглядить следующем обазом:\n",
        "$$R(\\hat\\theta) = E_{Q}(\\hat\\theta - \\theta)^2 = \\int_{\\Theta} (\\hat\\theta - \\theta)^2 q(\\theta) d\\theta $$\n",
        "\n",
        "Посчитаем Байесовский риск с помощью метода Монте-Карло:"
      ]
    },
    {
      "cell_type": "code",
      "execution_count": 54,
      "metadata": {},
      "outputs": [],
      "source": [
        "theta_increment = np.linspace(0, 1, 1000)"
      ]
    },
    {
      "cell_type": "code",
      "execution_count": 55,
      "metadata": {
        "id": "eqLClaevw1Jz"
      },
      "outputs": [
        {
          "name": "stdout",
          "output_type": "stream",
          "text": [
            "0.16669\n",
            "0.16652\n",
            "1.17999\n",
            "0.16619\n",
            "0.16652\n"
          ]
        }
      ],
      "source": [
        "risks = []\n",
        "risks.append(np.mean((first_estimate(sample) - theta_increment)**2 * 2 * theta_increment))\n",
        "risks.append(np.mean((second_estimate(sample) - theta_increment)**2 * 2 * theta_increment))\n",
        "risks.append(np.mean((third_estimate(sample) - theta_increment)**2 * 2 * theta_increment))\n",
        "risks.append(np.mean((fourth_estimate(sample) - theta_increment)**2 * 2 * theta_increment))\n",
        "risks.append(np.mean((fifth_estimate(sample) - theta_increment)**2 * 2 * theta_increment))\n",
        "\n",
        "\n",
        "for risk in risks:\n",
        "    print(np.round(risk, 5))\n"
      ]
    },
    {
      "cell_type": "markdown",
      "metadata": {},
      "source": [
        "Как мы видим все оценки стали иметь одинаковый риск с точностью до 3-го знака, кроме конечно $(n+1)X_{1} $"
      ]
    },
    {
      "cell_type": "markdown",
      "metadata": {
        "id": "alRlTeLtw1dD"
      },
      "source": [
        "Подберите такую плотность на $\\theta$, при котором порядок сравнения может измениться или объясните, почему это невозможно. Если Вы подобрали плотности, приведите пример постановки задачи, при которой Ваша плотность имеет практический смысл.\n",
        "\n",
        "*Указание:* не пытайтесь обогнать оценку-максимум по качеству, но может другие две оценки можно заставить сравниваться по-разному для разных плотностей."
      ]
    },
    {
      "cell_type": "code",
      "execution_count": 56,
      "metadata": {
        "id": "QMyAyuEyxQdB"
      },
      "outputs": [
        {
          "name": "stdout",
          "output_type": "stream",
          "text": [
            "0.60107\n",
            "0.60042\n",
            "1.93385\n",
            "0.5998\n",
            "0.60042\n"
          ]
        }
      ],
      "source": [
        "risks = []\n",
        "risks.append(np.mean((first_estimate(sample) - theta_increment)**2 * 2 * (1 - theta_increment**2)))\n",
        "risks.append(np.mean((second_estimate(sample) - theta_increment)**2 * 2 * (1 - theta_increment**2)))\n",
        "risks.append(np.mean((third_estimate(sample) - theta_increment)**2 * 2 * (1 - theta_increment**2)))\n",
        "risks.append(np.mean((fourth_estimate(sample) - theta_increment)**2 * 2 * (1 - theta_increment**2)))\n",
        "risks.append(np.mean((fifth_estimate(sample) - theta_increment)**2 * 2 * (1 - theta_increment**2)))\n",
        "\n",
        "\n",
        "for risk in risks:\n",
        "    print(np.round(risk, 5))\n"
      ]
    },
    {
      "cell_type": "markdown",
      "metadata": {},
      "source": [
        "при $q(x) = 1 - x^2 $ оценка $\\overline X + X_{n} / 2$ ведет себя чуть лучше остальных"
      ]
    },
    {
      "cell_type": "markdown",
      "metadata": {
        "id": "rPrVqQDwxQvn"
      },
      "source": [
        "Сделайте вывод о сравнении оценок и теореме Рао-Крамера"
      ]
    },
    {
      "cell_type": "markdown",
      "metadata": {},
      "source": [
        "$\\frac{n+1}{n}X_{n}$ является наилучшей оценкой среди предоставленных. Так как не выполнены условия регулярности то Неравенство Рао-Крамера не всегда выполняется. Действительно, риск $\\frac{n+1}{n}X_{n}$ намного ниже чем нижняя оценка из неравенства ($\\frac{\\theta^2}{n(n+1)} < \\frac{\\theta^2}{n} $)\n",
        "\n",
        "Но в случае среднего нижняя оценка дала правильный результат с точностью до константы ($\\frac{\\theta^2}{3n} $)"
      ]
    },
    {
      "cell_type": "markdown",
      "metadata": {
        "id": "OlA6SdwSC17C"
      },
      "source": [
        "## Задача 2\n",
        "\n",
        "Имперские банки каждую ночь подсчитывают баланс ресурсов Ордалии по сравнению с вчерашней ночью. За день приходят как новые ресурсы, так и потребляются уже имеющиеся. Как и у любого другого банка, если обозначить $X^1$ – максимальное значение баланса за день, $X^2$ – значение баланса в полночь, то $X = X^1 - X^2$ имеет распределение Вейбулла с функцией распределения $F(x) = 1 - e^{-x^\\gamma} (x > 0),$ где $\\gamma > 0$ –\n",
        "параметр формы. В файле Weibull.csv находятся соответствующие измерения.\n",
        "\n",
        "Наша задача состоит в том, чтобы оценить параметр формы."
      ]
    },
    {
      "cell_type": "markdown",
      "metadata": {
        "id": "ywzTXb37xfTs"
      },
      "source": [
        "Формальное условие: для распределения Вейбулла, функция распределения которого предложена выше, предлагается найти оценку параметра $\\gamma$."
      ]
    },
    {
      "cell_type": "code",
      "execution_count": 57,
      "metadata": {
        "id": "VD3ZwsBFDc4H"
      },
      "outputs": [],
      "source": [
        "weibull_sample = np.loadtxt(\"Weibull.csv\")"
      ]
    },
    {
      "cell_type": "markdown",
      "metadata": {
        "id": "_FwkM_jtz_4l"
      },
      "source": [
        "1. Постройте гистограмму выборки. Не забудьте подобрать `xlim`, `ylim` и параметр `bins`, чтобы гистограмма была информативна."
      ]
    },
    {
      "cell_type": "code",
      "execution_count": 58,
      "metadata": {},
      "outputs": [
        {
          "data": {
            "image/png": "[encoded data removed]",
            "text/plain": [
              "<Figure size 640x480 with 1 Axes>"
            ]
          },
          "metadata": {},
          "output_type": "display_data"
        }
      ],
      "source": [
        "plt.hist(weibull_sample, density=True, bins=1000, color=\"blue\")\n",
        "plt.xlim(0, 15)\n",
        "plt.ylim(0, 1)\n",
        "plt.show()"
      ]
    },
    {
      "cell_type": "markdown",
      "metadata": {
        "id": "nAkJW7cjDu3N"
      },
      "source": [
        "Проведем небольшой предварительный анализ. Итак, если наши данные распределены согласно распределению Вейбулла, то справедливы следующие рассуждения:\n",
        "$$\n",
        "\\begin{aligned} F(x) &=1-e^{-(x)^{\\gamma}} \\\\-\\ln (1-F(x)) &=x^{\\gamma} \\\\ \\underbrace{\\ln (-\\ln (1-F(x)))}_{y^{\\prime}} &=\\underbrace{\\gamma \\ln x}_{\\text {kx }^{\\prime}} \\end{aligned}\n",
        "$$\n",
        "А значит и\n",
        "$$\n",
        "\\underbrace{\\ln (-\\ln (1-\\hat{F}(x)))}_{y^{\\prime}} ≈\\underbrace{\\gamma \\ln x}_{\\text {kx }^{\\prime}}\n",
        "$$\n",
        "\n",
        "\n",
        "Однако здесь мы сталкиваемся с проблемой: в нашей выборке есть нули. А логарифм нуля, как известно, не определен. Мы предлагаем вам придумать решение этой проблемы и обосновать его применимость. Ситуация, когда статистическая модель не описывает какие-то артефакты в данных (как, например, нули в этой задаче) для практики типична, и с ней приходится что-то делать.\n",
        "\n",
        "Ответьте на два вопроса:\n",
        "\n",
        "а. Могут ли нули появляться если честно семплировать из распределения Вейбулла?\n",
        "\n",
        "б. Зная плотность распределения и то, что компьютерная точность неабсолютна, откуда нули всё-таки взялись, учитывая то, что авторы задания сэмплировали выборку из распределения Вейбулла?"
      ]
    },
    {
      "cell_type": "markdown",
      "metadata": {
        "id": "g56JjkQzcx9p"
      },
      "source": [
        "#### Мои ответы:\n",
        "\n",
        "а.Думаю что нет, так как теоретически плотность в нуле равняется нулю\n",
        "\n",
        "б.Компьтеры могли округлить выборку до ближайших рациональных чисел, от есть до нуля (наверное)\n",
        "\n",
        "Проблему с нулями можно решить - заменив нули маленькими значениями.\n",
        "Проблема с логарифмом решится, а также очень мелкие знавения не должны повлиять на оценку. Но пробема в том что мы на прямую меняем данные что делает их не правдаподобными"
      ]
    },
    {
      "cell_type": "code",
      "execution_count": 95,
      "metadata": {},
      "outputs": [],
      "source": [
        "weibull_sample[weibull_sample == 0] = 1e-10"
      ]
    },
    {
      "cell_type": "markdown",
      "metadata": {
        "id": "Zs-WKaKTDHiN"
      },
      "source": [
        "2. Посчитайте эмпирическую функцию распределения и\n",
        "$$y\\prime = \\ln (-\\ln (1-\\hat{F}(x))) \\quad x' = ln x$$\n",
        " где $x$ – элементы исходной выборки."
      ]
    },
    {
      "cell_type": "code",
      "execution_count": 127,
      "metadata": {},
      "outputs": [
        {
          "data": {
            "text/plain": [
              "[<matplotlib.lines.Line2D at 0x15a88f530>]"
            ]
          },
          "execution_count": 127,
          "metadata": {},
          "output_type": "execute_result"
        },
        {
          "data": {
            "image/png": "[encoded data removed]",
            "text/plain": [
              "<Figure size 640x480 with 1 Axes>"
            ]
          },
          "metadata": {},
          "output_type": "display_data"
        }
      ],
      "source": [
        "x = weibull_sample\n",
        "n = weibull_sample.size\n",
        "F_emp = np.arange(1, n+1) / n\n",
        "\n",
        "plt.plot(np.sort(weibull_sample), F_emp)"
      ]
    },
    {
      "cell_type": "code",
      "execution_count": 128,
      "metadata": {},
      "outputs": [
        {
          "name": "stderr",
          "output_type": "stream",
          "text": [
            "/var/folders/5d/bsm3kt3d4qdc55zn6zggxf800000gq/T/ipykernel_89648/1269688593.py:1: RuntimeWarning: divide by zero encountered in log\n",
            "  y_emp, x_emp = np.log(-np.log(1 - F_emp)), np.log(x)\n"
          ]
        }
      ],
      "source": [
        "y_emp, x_emp = np.log(-np.log(1 - F_emp)), np.log(x)"
      ]
    },
    {
      "cell_type": "markdown",
      "metadata": {
        "id": "crJFoUDuBhU3"
      },
      "source": [
        "**Постройте** график (`plt.scatter`) от (y', x') для Ваших способов борьбы с нулями разными цветами.\n",
        "Не забудьте про `alpha=0.05` и легенду. Такой график называется `Weibull plot` и является аналогом `qqplot` для распределения Вейбулла."
      ]
    },
    {
      "cell_type": "code",
      "execution_count": 88,
      "metadata": {
        "id": "ra3ckkhyBhh1"
      },
      "outputs": [
        {
          "data": {
            "image/png": "[encoded data removed]",
            "text/plain": [
              "<Figure size 1200x800 with 1 Axes>"
            ]
          },
          "metadata": {},
          "output_type": "display_data"
        }
      ],
      "source": [
        "plt.figure(figsize=(12, 8))\n",
        "\n",
        "plt.xlabel(\"x'\")\n",
        "plt.ylabel(\"y'\")\n",
        "\n",
        "plt.scatter(x_emp, y_emp, color=\"r\", alpha=0.2, label=\"Подход с выкидыванием нулей\")\n",
        "\n",
        "plt.legend()\n",
        "plt.grid(True)\n",
        "plt.show()"
      ]
    },
    {
      "cell_type": "markdown",
      "metadata": {
        "id": "zKGPK8JwJ5N4"
      },
      "source": [
        "Сделайте вывод. Какой способ вам кажется более правильным и почему?\n",
        "\n",
        "**Вывод:**"
      ]
    },
    {
      "cell_type": "markdown",
      "metadata": {
        "id": "UBOygE7gDt7A"
      },
      "source": [
        "3. Оцените параметр формы методом максимального правдоподобия\n",
        "* по\n",
        "первым 4 годам;\n",
        "* по всей выборке.\n",
        "\n",
        "Мы предполагаем, что Вы будете производить максимизацию по сетке --- для некоторого множества возможных параметров постройте сетку с некоторым шагом (для определённости возьмите шаг равный $10^{-3}$) и выберите лучший параметр на этой сетке. Известно, что $\\log_{10}\\gamma \\in [-2, 2].$\n",
        "\n",
        "Однако, если Вы хорошо поняли курс оптимизации, то можете написать оптимизатор, который находит максимум сам. Задачу можно переформулировать, чтобы ответ не изменился, а оптимизация шла быстрее. За хорошо сформулированную оптимизационную задачу и реализацию мы добавим 5 бонусных баллов."
      ]
    },
    {
      "cell_type": "markdown",
      "metadata": {
        "id": "lqDaY-tReBTm"
      },
      "source": [
        "Решение:"
      ]
    },
    {
      "cell_type": "code",
      "execution_count": null,
      "metadata": {
        "id": "NvCf9yhPFEai"
      },
      "outputs": [],
      "source": []
    },
    {
      "cell_type": "markdown",
      "metadata": {
        "id": "lSQssL3sQY-7"
      },
      "source": [
        "Найдите в библиотеке `scipy.stats` класс, отвечающий за данное семейство распределений (будьте аккуратны, внимательно читайте документацию!), и изучите его метод `fit`. Как он находит оценку параметра? Примените эту функцию к нашим данным и сравните полученные результаты с результатами выше.\n",
        "\n",
        "*Замечание.* Обратите внимание, для чего именно сей метод находит оценку? Сделайте так, чтобы он возвращал оценку непосредственно для интересующего нас параметра."
      ]
    },
    {
      "cell_type": "code",
      "execution_count": null,
      "metadata": {
        "id": "ndy12wcaQGkB"
      },
      "outputs": [],
      "source": []
    },
    {
      "cell_type": "markdown",
      "metadata": {
        "id": "xwVgFpvTQydc"
      },
      "source": [
        "4. Постройте график $y = \\gamma \\cdot x$ для всех полученных $\\gamma$ (`plt.plot`) и `scatter plot` из предыдущего пункта ($y\\prime \\ x\\prime$) для того метода, который вам кажется более правильным. Хорошо ли линии соответствуют выборке? Как вы думаете, почему?"
      ]
    },
    {
      "cell_type": "markdown",
      "metadata": {
        "id": "kouepRM42X5o"
      },
      "source": [
        "**Вывод**"
      ]
    },
    {
      "cell_type": "markdown",
      "metadata": {
        "id": "25Vh2cHzaGdp"
      },
      "source": [
        "## Задача 3"
      ]
    },
    {
      "cell_type": "markdown",
      "metadata": {
        "id": "16IBL2opev35"
      },
      "source": [
        "Хорошим методом получения аналитических оценок является метод моментов."
      ]
    },
    {
      "cell_type": "markdown",
      "metadata": {
        "id": "Az5RayZ6bTd2"
      },
      "source": [
        "1. Сгенерируйте выборки $X_1, \\ldots, X_N$ из $\\mathit{N}(0, \\theta)$, $U(0, \\theta)$, $\\Gamma(1, \\theta)$ (**параметризация $k, \\theta$**, см. [Википедию](https://en.wikipedia.org/wiki/Gamma_distribution)), $\\theta = 3$ для всех распределений $(N = 1000).$ Посчитайте значения оценок (по выборке $X_1, \\ldots X_n$) методом моментов. Промоделируйте полученные оценки для разных размеров выборки $n < N$ и изучите их скорости сходимости. На графике отразите истинный параметр. Можете построить отдельный график модуля/квадрата разности оценки и параметра (риск) для какой-то выборке и посмотреть, как быстро риск сходится к нулю."
      ]
    },
    {
      "cell_type": "code",
      "execution_count": null,
      "metadata": {
        "id": "tbuZSbISYN4b"
      },
      "outputs": [],
      "source": []
    },
    {
      "cell_type": "markdown",
      "metadata": {
        "id": "-BUrI0vw2X5q"
      },
      "source": [
        "Решение (вывод метода моментов для каждого случая):"
      ]
    },
    {
      "cell_type": "code",
      "execution_count": null,
      "metadata": {
        "id": "6evCxPHU2X5r"
      },
      "outputs": [],
      "source": []
    },
    {
      "cell_type": "markdown",
      "metadata": {
        "id": "GrzFMiosfcZQ"
      },
      "source": [
        "2. Есть два замечательных распределения, которые игнорировать никак нельзя. Первое --- $Pareto(k)$ с плотностью $p(x) = kx^{-k-1} I( x \\ge 1)$, где $k > 0$. Второе --- $Cauchy(0, \\theta)$  с плотностью $p(x) = \\frac{\\theta}{x^2 + \\theta^2}$. Запишите оценки методом моментов для них и проверьте их на состоятельность на практике. Для моделирования возьмите то же значение параметра, что дано выше.\n",
        "\n",
        "*Подсказка:* внимательно изучите, чему равны моменты каждого из распределений и при каких условиях. Можно ли гарантировать состоятельность полученных оценок каким-то теоретическими фактами?"
      ]
    },
    {
      "cell_type": "markdown",
      "metadata": {
        "id": "fJyLZhzzmAYR"
      },
      "source": [
        "Решение (аналитический вывод оценок):"
      ]
    },
    {
      "cell_type": "markdown",
      "metadata": {
        "id": "BpjJeWELmE-D"
      },
      "source": [
        "Моделирование:"
      ]
    },
    {
      "cell_type": "code",
      "execution_count": null,
      "metadata": {
        "id": "VsMUsHs_mHZD"
      },
      "outputs": [],
      "source": []
    },
    {
      "cell_type": "markdown",
      "metadata": {
        "id": "O0Vzyx2G2X5t"
      },
      "source": [
        "**Вывод:**"
      ]
    },
    {
      "cell_type": "markdown",
      "metadata": {
        "id": "tcqsj3AjglD1"
      },
      "source": [
        "**Следующие две задачи посвящены тому, как получать более информативные оценки, чем точечные. Нам приходится обращаться к ним, так как свойства точечных оценок являются предельными, и мы мало что знаем о том, насколько конкретное значение оценки близко к истинному значению параметра. В условиях кровавой войны информация должна быть максимальной.**"
      ]
    },
    {
      "cell_type": "markdown",
      "metadata": {
        "id": "C51ez7fCjK-m"
      },
      "source": [
        "### Задача 4. Бутстреп\n",
        "\n",
        "Для реальных данных часто сложно подобрать распределение и нужную параметризацию относительно $\\theta$. Кроме того на практике сложно посчитать дисперсию оценки (для этого хотя бы нужно знать распределение, из которого пришла выборка) и какой-то отрезок, в который параметр попадёт с высокой вероятностью (такой отрезок называется **доверительным интервалом**_. На помощь в таких случаях приходит **бутстреп**.\n",
        "\n",
        "Идея очень простая. Вспомним, как работает **метод подстановки** для получения оценок. В нём мы выражаем параметр при помощи распределения (как среднее или медиана, например), потом меняем распределение на эмпирическое и выражаем параметр уже через него. Бутстреп это подмена истинного распределения на эмпирическое.\n",
        "\n"
      ]
    },
    {
      "cell_type": "markdown",
      "metadata": {
        "id": "Ls9KPvoVhvnB"
      },
      "source": [
        "1. Для каждого распределения из задачи 3 (в том числе из пункта 2) сгенерируйте выборку размера $N = 1000$. Далее замените Ваше распределение на равномерное распределение по построенной выборке (по теореме Гливенко-Кантелли эти распределения достаточно близки), и из эмпирического (равномерного) распределения постройте 100 выборок. Опишите, как Вы будете это делать.\n",
        "\n",
        "*Указание:* из истинного распределения (нормального и т.д.) новые данные генерировать **нельзя**. Бутстреп это способ получения псевдо-новых данных из уже имеющихся."
      ]
    },
    {
      "cell_type": "markdown",
      "metadata": {
        "id": "KbaiCeTDiSVU"
      },
      "source": [
        "Ответ:"
      ]
    },
    {
      "cell_type": "code",
      "execution_count": null,
      "metadata": {
        "id": "x80V3Nsyvv-X"
      },
      "outputs": [],
      "source": []
    },
    {
      "cell_type": "markdown",
      "metadata": {
        "id": "Uh3miSx3iT1h"
      },
      "source": [
        "2. Для каждой псевдо-выборки из предыдущего пункта постройте оценку методом моментов из задачи 3: получится выборка оценок (как в домашке 1). По ней посчитайте эмпирическую (выборочную) дисперсию оценок и сделайте вывод о том, как связано значение дисперсии оценки (эмпирической и бутстрепной) с точностью и скоростью сходимости оценки к параметру."
      ]
    },
    {
      "cell_type": "code",
      "execution_count": null,
      "metadata": {
        "id": "39osdTx-iqas"
      },
      "outputs": [],
      "source": []
    },
    {
      "cell_type": "markdown",
      "metadata": {
        "id": "8kTdsnByyWUn"
      },
      "source": [
        "3. Как мы знаем, оценка методом моментов не гарантирует несмещённости. При помощи метода бутстрапирования найдите смещение (разницу между мат. ожиданием оценки и значением параметра) каждой оценки. Какие оценки (в теории) несмещённые?"
      ]
    },
    {
      "cell_type": "code",
      "execution_count": null,
      "metadata": {
        "id": "IzQr48MAymbt"
      },
      "outputs": [],
      "source": []
    },
    {
      "cell_type": "markdown",
      "metadata": {
        "id": "-1Q_nEQDjen3"
      },
      "source": [
        "**Вывод:**"
      ]
    },
    {
      "cell_type": "code",
      "execution_count": null,
      "metadata": {
        "id": "2iRVvQUOjf5v"
      },
      "outputs": [],
      "source": []
    },
    {
      "cell_type": "markdown",
      "metadata": {
        "id": "dTSLLqcrjisV"
      },
      "source": [
        "### Задача 5. Байес.\n",
        "\n",
        "**Эта задача является бонусной и стоит 30 (!!!) баллов**\n",
        "\n",
        "Байесовское оценивание даёт ультиматимативный способ построения оценок без какой-либо потери в информации. Теперь мы оцениваем параметры распределения не точками и не отрезками, а распределениями!"
      ]
    },
    {
      "cell_type": "markdown",
      "metadata": {
        "id": "zQePRONLkCb0"
      },
      "source": [
        "1. Будем смотреть на параметрическое семейство распределений как на условное распределение: $P_{\\theta} = P(X | \\theta)$. В байесовском подходе подразумевается, что параметр $\\theta$ сам приходит из некоторого **априорного** распределения (которое статист либо предпологает сам, либо предпологает исходя из внешних знаний об области).\n",
        "\n",
        "Вспомним теорему Байеса: $p(\\theta | X) = \\frac{p(X | \\theta) p(\\theta)}{p(X)}$, где знаменатель $p(x)$ получается как интеграл по $\\theta$ от числителя. В зависимости от того, можем ли мы взять этот интеграл, выбирается тип байесовской оценки. $p(X | \\theta)$ мы знаем, это хорошо нам знакомое правдоподобие, $p(\\theta)$ называется априорным распределением (prior) параметра, мы его выбираем сами исходя из наших предпочтений, $p(X)$ от параметра не зависит и называется обоснованностью (evidence), и показывает, насколько правдоподобна выборка в терминах выбранного семейства распределений."
      ]
    },
    {
      "cell_type": "markdown",
      "metadata": {
        "id": "23yig7oD3K1l"
      },
      "source": [
        "Скачайте датасет сердечных заболеваний: https://colab.research.google.com/drive/1J5ujdgEDwLhie13d4XDd3manrNe_c3Ek#scrollTo=vd8WgXL3jjzL"
      ]
    },
    {
      "cell_type": "code",
      "execution_count": null,
      "metadata": {
        "id": "cKHKb_Tp3PTA"
      },
      "outputs": [],
      "source": []
    },
    {
      "cell_type": "markdown",
      "metadata": {
        "id": "rB-5QtWQ3OiE"
      },
      "source": [
        "Мы будем предсказывать наличие и степень выраженности болезни (переменная num) это наличие, используя следующие параметры: age, sex, fbs, chol"
      ]
    },
    {
      "cell_type": "markdown",
      "metadata": {
        "id": "T8bwcsJH4DYb"
      },
      "source": [
        "Переменная num имеет категориальное распределение. Напишите его плотность и докажите, что сопряжённым к нему будет распределение Дирихле https://en.wikipedia.org/wiki/Dirichlet_distribution."
      ]
    },
    {
      "cell_type": "markdown",
      "metadata": {
        "id": "KtY-WH-t4nh-"
      },
      "source": [
        "Доказательство:"
      ]
    },
    {
      "cell_type": "code",
      "execution_count": null,
      "metadata": {
        "id": "vd8WgXL3jjzL"
      },
      "outputs": [],
      "source": []
    },
    {
      "cell_type": "markdown",
      "metadata": {
        "id": "ietgOGoh45ok"
      },
      "source": [
        "Пока что мы работаем в модели, которая не учитывает никаких параметров и рассматриваем весь датасет как единую выборку индикаторов степени выраженности болезни (num)."
      ]
    },
    {
      "cell_type": "markdown",
      "metadata": {
        "id": "XdR-YVoqlWp1"
      },
      "source": [
        "2. \"Байес для бедных\" (Poor man's bayes)"
      ]
    },
    {
      "cell_type": "markdown",
      "metadata": {
        "id": "pLCkd-kllceG"
      },
      "source": [
        "Пусть интеграл в знаменателе мы считать не умеем и мы готовы с этим смириться. Что в таком случае делать? Можно искать моду (максимум) апостериорной плотности $P(\\theta | X)$, где $X$ --- выборка, и рассматривать оценку $\\theta$ как точку максимума.\n",
        "\n",
        "Подберите три различных априорных распределения на параметр (т.е. три разных набора параметров априорного распределения Дирихле) и найдите максимум апостериорной плотности.\n",
        "Преобразуйте задачу максимизации и найдите максимум по сетке или оптимизатором."
      ]
    },
    {
      "cell_type": "code",
      "execution_count": null,
      "metadata": {
        "id": "KUk0JFy9lb-5"
      },
      "outputs": [],
      "source": []
    },
    {
      "cell_type": "markdown",
      "metadata": {
        "id": "rtDLQSRGmdtA"
      },
      "source": [
        "Сделайте вывод о том, как влияет априорная информация о параметре на оценку? Вспомните лекции из курса машинного обучения. На какой объект похоже априорное распределение? Как его следует выбирать. Как связаны максимум апостериорной плотности и оценка максимального правоподобия?"
      ]
    },
    {
      "cell_type": "markdown",
      "metadata": {
        "id": "HmUFflXr5FzQ"
      },
      "source": [
        "Ответ:"
      ]
    },
    {
      "cell_type": "markdown",
      "metadata": {
        "id": "h-Mptzgj5Hk2"
      },
      "source": [
        "Вы --- врач и оценка вероятности $\\mathsf P(num=0)$ оказывается больше, чем 0.3, то Вы отправите пациента на доп. обследование и возможно на лечение. Как лучше подобрать априорное распределение, чтобы оценке байеса для бедных можно было доверять. Почему вообще одни априорные параметры могут быть лучше других?"
      ]
    },
    {
      "cell_type": "markdown",
      "metadata": {
        "id": "J5pteq5h5k-N"
      },
      "source": [
        "Ответ:"
      ]
    },
    {
      "cell_type": "markdown",
      "metadata": {
        "id": "w5PdwGhe5l62"
      },
      "source": [
        "Подберите такой порог $P(num = 0)$ при котором пациент отправляется на доп. обследование и два таких набора априорных параметров, при которых для данной выборки порог достигается и не достигается."
      ]
    },
    {
      "cell_type": "code",
      "execution_count": null,
      "metadata": {
        "id": "1O3UicXL54ZL"
      },
      "outputs": [],
      "source": []
    },
    {
      "cell_type": "markdown",
      "metadata": {
        "id": "5V7IOa68543L"
      },
      "source": [
        "Сделайте вывод о выборе априорного распределения."
      ]
    },
    {
      "cell_type": "markdown",
      "metadata": {
        "id": "SEq70mRQmu2p"
      },
      "source": [
        "3. Байес для богатых (обычный байес)."
      ]
    },
    {
      "cell_type": "markdown",
      "metadata": {
        "id": "gI0Wed_6myQF"
      },
      "source": [
        "Отказываться считать интеграл нельзя, за это полагается смертная казнь."
      ]
    },
    {
      "cell_type": "markdown",
      "metadata": {
        "id": "tfGNHBH66BCE"
      },
      "source": [
        "Посчитайте и визуализируйте апостериорные плотности для разных априорных параметров. Если плотность оказывается слишком похожа на дельта-функцию, считайте её не для всей выборки"
      ]
    },
    {
      "cell_type": "code",
      "execution_count": null,
      "metadata": {
        "id": "3wa1x_jYmtT8"
      },
      "outputs": [],
      "source": []
    },
    {
      "cell_type": "markdown",
      "metadata": {
        "id": "TiyJcuEXns8F"
      },
      "source": [
        "Что Вы бы брали точечной оценкой параметра исходя из апостериорного распределения? Почему?"
      ]
    },
    {
      "cell_type": "code",
      "execution_count": null,
      "metadata": {
        "id": "s_rjStMPobdJ"
      },
      "outputs": [],
      "source": []
    },
    {
      "cell_type": "markdown",
      "metadata": {
        "id": "EsNEnOlY6Slv"
      },
      "source": [
        "4. Выбор модели."
      ]
    },
    {
      "cell_type": "markdown",
      "metadata": {
        "id": "naVf2X6F6bU4"
      },
      "source": [
        "Рассмотрим несколько моделей предсказания сердечных заболеваний. Модели будут очень простыми --- у нас будет разный параметр вероятности для разных групп пациентов. Предложите 4-5 разбиений пациентов на группы (по полу/возрасту/каким-то порогам на количество сахара или холестерина в крови) и рассмотрите модели, при которых параметры категориального распределения оказываются разными или одинаковыми для разных групп. Посмотрите на пример с семинара. Посчитайте обоснованность в каждом случае.\n",
        "\n",
        "**Указание:** не считайте интеграл, так как обоснованностью будет произведение комбинаторных коэффициентов и бета-функций."
      ]
    },
    {
      "cell_type": "markdown",
      "metadata": {
        "id": "wjJxok5F78_J"
      },
      "source": [
        "**Указание:** При сравнении обоснованности для модели, которая учитывает разбиение на группы с той, которая не учитывает, плотность всё равно следует факторизовать на группы, чтобы анализ был одинаковым.\n",
        "\n",
        "Например, для сравнения модели \"параметр зависит от возраста\" и \"параметр зависит от пола\" необходимо разделить данные на 4 группы \"молодые/старые мужчины/женщины\". См. пример с семинара."
      ]
    },
    {
      "cell_type": "markdown",
      "metadata": {
        "id": "4bkKnhE8-2hW"
      },
      "source": [
        "Предполагая возможнность модели \"параметр зависит от пола\" мы делаем неявное предположение, что данные для разных полов приходят из разных совокупностей, а значит их нельзя объединять в одну выборку. Осторожно формулируйте, в каких предположениях Вы сравниваете модели."
      ]
    },
    {
      "cell_type": "code",
      "execution_count": null,
      "metadata": {
        "id": "oJco8OOC7OQX"
      },
      "outputs": [],
      "source": []
    },
    {
      "cell_type": "markdown",
      "metadata": {
        "id": "306-eTba7Oqx"
      },
      "source": [
        "У какой модели выше обоснованность? Почему?"
      ]
    },
    {
      "cell_type": "markdown",
      "metadata": {
        "id": "0_C9cx2-ob8y"
      },
      "source": [
        "Сделайте вывод о байесовском оценивании:"
      ]
    },
    {
      "cell_type": "code",
      "execution_count": null,
      "metadata": {
        "id": "hrmtxZhsoej_"
      },
      "outputs": [],
      "source": []
    }
  ],
  "metadata": {
    "colab": {
      "provenance": []
    },
    "kernelspec": {
      "display_name": "myenv",
      "language": "python",
      "name": "python3"
    },
    "language_info": {
      "codemirror_mode": {
        "name": "ipython",
        "version": 3
      },
      "file_extension": ".py",
      "mimetype": "text/x-python",
      "name": "python",
      "nbconvert_exporter": "python",
      "pygments_lexer": "ipython3",
      "version": "3.12.4"
    }
  },
  "nbformat": 4,
  "nbformat_minor": 0
}
